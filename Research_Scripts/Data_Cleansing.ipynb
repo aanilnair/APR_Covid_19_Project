{
  "nbformat": 4,
  "nbformat_minor": 0,
  "metadata": {
    "colab": {
      "provenance": []
    },
    "kernelspec": {
      "name": "python3",
      "display_name": "Python 3"
    },
    "language_info": {
      "name": "python"
    }
  },
  "cells": [
    {
      "cell_type": "code",
      "execution_count": null,
      "metadata": {
        "id": "PdfY-GZd7Qcc"
      },
      "outputs": [],
      "source": [
        "import pandas as pd\n",
        "pd.set_option('display.max_columns', None)\n",
        "pd.set_option('display.max_colwidth', None)"
      ]
    },
    {
      "cell_type": "code",
      "source": [
        "#Load Compact Subnational Data\n",
        "df1_compact_subnational = pd.read_csv('/content/OxCGRT_compact_subnational_v1.csv')"
      ],
      "metadata": {
        "colab": {
          "base_uri": "https://localhost:8080/"
        },
        "id": "mKdm0hSZ7xMs",
        "outputId": "a1797ddd-e593-4790-8c02-e83938161fea"
      },
      "execution_count": null,
      "outputs": [
        {
          "output_type": "stream",
          "name": "stderr",
          "text": [
            "<ipython-input-33-2ca9386d2bcc>:2: DtypeWarning: Columns (4,5,53) have mixed types. Specify dtype option on import or set low_memory=False.\n",
            "  df1_compact_subnational = pd.read_csv('/content/OxCGRT_compact_subnational_v1.csv')\n"
          ]
        }
      ]
    },
    {
      "cell_type": "code",
      "source": [
        "#Showing United States from March 1st, 2020 - November 30th 2020\n",
        "df2_compact_subnational = df1_compact_subnational[\n",
        "        (\n",
        "        (df1_compact_subnational['CountryName']== \"United States\")\n",
        "        )\n",
        "        &\n",
        "        (\n",
        "        (df1_compact_subnational['Date']>= 20200301) &\n",
        "        (df1_compact_subnational['Date'] <= 20201130)\n",
        "        )\n",
        "  ]"
      ],
      "metadata": {
        "id": "0HzuPMcn72A0"
      },
      "execution_count": null,
      "outputs": []
    },
    {
      "cell_type": "code",
      "source": [
        "#Changing Column Name\n",
        "df2_compact_subnational = df2_compact_subnational.rename(\n",
        "    columns = {'CountryName' : 'Country' ,\n",
        "               'RegionName' : 'State' ,\n",
        "               'C1M_School.closing' : 'SchoolClosing' ,\n",
        "               'C2M_Workplace.closing' : 'WorkplaceClosing',\n",
        "               'C3M_Cancel.public.events' : 'PublicEventClosing',\n",
        "               'C4M_Restrictions.on.gatherings' : 'GatheringRestrictions',\n",
        "               'C5M_Close.public.transport' : 'PublicTransportClosing',\n",
        "               'C6M_Stay.at.home.requirements' : 'StayAtHomeRequirements',\n",
        "               'C7M_Restrictions.on.internal.movement' :'InternalRestrictions',\n",
        "               'C8EV_International.travel.controls' : 'InternationalRestrictions' ,\n",
        "               'Date' : 'OldDate'\n",
        "               }\n",
        "    )"
      ],
      "metadata": {
        "id": "waIlfBt59nS3"
      },
      "execution_count": null,
      "outputs": []
    },
    {
      "cell_type": "code",
      "source": [
        "#Creating Effective Date Column from DateTime format\n",
        "df2_compact_subnational['Date'] = pd.to_datetime(df2_compact_subnational['OldDate'], format='%Y%m%d')"
      ],
      "metadata": {
        "id": "cTgfjgDMpVjW"
      },
      "execution_count": null,
      "outputs": []
    },
    {
      "cell_type": "code",
      "source": [
        "#Selecting Needed Columns\n",
        "df3_compact_subnational = df2_compact_subnational[['Country',\n",
        "                                                   'State' ,\n",
        "                                                   'Date',\n",
        "                                                   'SchoolClosing' ,\n",
        "                                                   'WorkplaceClosing',\n",
        "                                                   'PublicEventClosing',\n",
        "                                                   'GatheringRestrictions',\n",
        "                                                   'PublicTransportClosing',\n",
        "                                                   'StayAtHomeRequirements',\n",
        "                                                   'InternalRestrictions',\n",
        "                                                   'InternationalRestrictions',\n",
        "                                                   'ConfirmedCases',\n",
        "                                                   'ConfirmedDeaths'\n",
        "                                                   ]]"
      ],
      "metadata": {
        "id": "46y03-2e-Rdg"
      },
      "execution_count": null,
      "outputs": []
    },
    {
      "cell_type": "code",
      "source": [
        "#Remove Nulls\n",
        "df4_compact_subnational = df3_compact_subnational[df3_compact_subnational['State'].isna()==0]"
      ],
      "metadata": {
        "id": "rlF3o0Y5FrT5"
      },
      "execution_count": null,
      "outputs": []
    },
    {
      "cell_type": "code",
      "source": [
        "#Remove Duplicates\n",
        "df4_compact_subnational = df4_compact_subnational.drop_duplicates()"
      ],
      "metadata": {
        "id": "Gqz30QK4GCzO"
      },
      "execution_count": null,
      "outputs": []
    },
    {
      "cell_type": "code",
      "source": [
        "#Copy Result to csv\n",
        "df4_compact_subnational.to_csv(r\"Cleansed_Data.csv\",index=False)"
      ],
      "metadata": {
        "id": "NiVsznUdQ1HK"
      },
      "execution_count": null,
      "outputs": []
    }
  ]
}